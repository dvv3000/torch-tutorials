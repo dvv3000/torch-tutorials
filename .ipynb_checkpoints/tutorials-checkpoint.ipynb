{
 "cells": [
  {
   "cell_type": "code",
   "execution_count": 7,
   "source": [
    "import torch\r\n",
    "import torchvision\r\n",
    "import torch.nn as nn\r\n",
    "import torchvision.transforms as transforms\r\n",
    "import numpy as np "
   ],
   "outputs": [],
   "metadata": {}
  },
  {
   "cell_type": "code",
   "execution_count": 4,
   "source": [
    "x = torch.rand(10, 3)\r\n",
    "x"
   ],
   "outputs": [
    {
     "output_type": "execute_result",
     "data": {
      "text/plain": [
       "tensor([[0.2964, 0.8620, 0.6770],\n",
       "        [0.3951, 0.7407, 0.5657],\n",
       "        [0.7447, 0.1209, 0.9605],\n",
       "        [0.6744, 0.5397, 0.7447],\n",
       "        [0.9279, 0.8498, 0.1893],\n",
       "        [0.8846, 0.9220, 0.9078],\n",
       "        [0.5299, 0.1957, 0.1977],\n",
       "        [0.2002, 0.8699, 0.2947],\n",
       "        [0.1395, 0.4538, 0.4965],\n",
       "        [0.7696, 0.4815, 0.8114]])"
      ]
     },
     "metadata": {},
     "execution_count": 4
    }
   ],
   "metadata": {}
  },
  {
   "cell_type": "code",
   "execution_count": 5,
   "source": [
    "y = torch.rand(10, 2)\r\n",
    "y"
   ],
   "outputs": [
    {
     "output_type": "execute_result",
     "data": {
      "text/plain": [
       "tensor([[0.2606, 0.5114],\n",
       "        [0.7013, 0.8323],\n",
       "        [0.8353, 0.0243],\n",
       "        [0.0475, 0.7386],\n",
       "        [0.1597, 0.6014],\n",
       "        [0.9265, 0.9881],\n",
       "        [0.8976, 0.7063],\n",
       "        [0.3917, 0.1966],\n",
       "        [0.1826, 0.3504],\n",
       "        [0.7207, 0.2694]])"
      ]
     },
     "metadata": {},
     "execution_count": 5
    }
   ],
   "metadata": {}
  },
  {
   "cell_type": "code",
   "execution_count": 8,
   "source": [
    "linear = nn.Linear(3, 2)\r\n",
    "print('w: ', linear.weight)\r\n",
    "print('b: ', linear.bias)"
   ],
   "outputs": [
    {
     "output_type": "stream",
     "name": "stdout",
     "text": [
      "w:  Parameter containing:\n",
      "tensor([[-0.3837, -0.3458,  0.2591],\n",
      "        [ 0.2627, -0.1784,  0.1059]], requires_grad=True)\n",
      "b:  Parameter containing:\n",
      "tensor([ 0.4152, -0.4141], requires_grad=True)\n"
     ]
    }
   ],
   "metadata": {}
  },
  {
   "cell_type": "code",
   "execution_count": 14,
   "source": [
    "linear.parameters()"
   ],
   "outputs": [
    {
     "output_type": "execute_result",
     "data": {
      "text/plain": [
       "<generator object Module.parameters at 0x000002207A516F90>"
      ]
     },
     "metadata": {},
     "execution_count": 14
    }
   ],
   "metadata": {}
  },
  {
   "cell_type": "code",
   "execution_count": 10,
   "source": [
    "criterion = nn.MSELoss()\r\n",
    "optimizer = torch.optim.SGD(linear.parameters(), lr=0.001)"
   ],
   "outputs": [],
   "metadata": {}
  },
  {
   "cell_type": "code",
   "execution_count": 13,
   "source": [
    "pred = linear(x)\r\n",
    "\r\n",
    "loss = criterion(pred, y)\r\n",
    "print('loss after 1 step optimization: ', loss.item())"
   ],
   "outputs": [
    {
     "output_type": "stream",
     "name": "stdout",
     "text": [
      "loss after 1 step optimization:  0.5211935043334961\n"
     ]
    }
   ],
   "metadata": {}
  },
  {
   "cell_type": "markdown",
   "source": [
    "##Loading data from numpy"
   ],
   "metadata": {}
  },
  {
   "cell_type": "markdown",
   "source": [
    "x = np.array([[1, 2, 3], [5, 7, 9]])\r\n"
   ],
   "metadata": {}
  }
 ],
 "metadata": {
  "orig_nbformat": 4,
  "language_info": {
   "name": "python"
  }
 },
 "nbformat": 4,
 "nbformat_minor": 2
}