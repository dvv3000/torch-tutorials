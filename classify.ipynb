{
 "cells": [
  {
   "cell_type": "code",
   "execution_count": 1,
   "source": [
    "import torch\r\n",
    "import torch.nn as nn\r\n",
    "from torchvision import transforms \r\n",
    "from torch.utils.data import Dataset, DataLoader\r\n",
    "\r\n",
    "import numpy as np\r\n",
    "import pandas as pd\r\n",
    "import matplotlib.pyplot as plt\r\n",
    "import cv2 \r\n",
    "import os\r\n"
   ],
   "outputs": [],
   "metadata": {}
  },
  {
   "cell_type": "code",
   "execution_count": 2,
   "source": [
    "device = torch.device('cuda' if torch.cuda.is_available() else 'cpu')"
   ],
   "outputs": [],
   "metadata": {}
  },
  {
   "cell_type": "code",
   "execution_count": 3,
   "source": [
    "# data_path = 'classify'\r\n",
    "# for folder in os.listdir(data_path):\r\n",
    "#     if folder == 'positive':\r\n",
    "#         for file in os.listdir(os.path.join(data_path, folder)):\r\n",
    "#             new_name = data_path + '\\\\1_' + file\r\n",
    "#             curr_name = os.path.join(data_path, folder) + '\\\\' + file\r\n",
    "#             os.renames(curr_name, new_name)\r\n",
    "#     else:\r\n",
    "#         for file in os.listdir(os.path.join(data_path, folder)):\r\n",
    "#             new_name = data_path + '\\\\0_' + file\r\n",
    "#             curr_name = os.path.join(data_path, folder) + '\\\\' + file\r\n",
    "#             os.renames(curr_name, new_name)\r\n"
   ],
   "outputs": [],
   "metadata": {}
  },
  {
   "cell_type": "code",
   "execution_count": 4,
   "source": [
    "class CustomDataset(Dataset):\r\n",
    "    def __init__(self, path, transforms=None):\r\n",
    "        self.names = os.listdir(path)\r\n",
    "        self.transforms = transforms\r\n",
    "        self.path = path\r\n",
    "\r\n",
    "    def __len__(self):\r\n",
    "        return len(self.names)\r\n",
    "\r\n",
    "    def __getitem__(self, index):\r\n",
    "        img_path = os.path.join(self.path, self.names[index])\r\n",
    "        img = cv2.imread(img_path)\r\n",
    "        label = int(self.names[index][0])\r\n",
    "        if self.transforms:\r\n",
    "            img = self.transforms(img) \r\n",
    "            \r\n",
    "        return img, label"
   ],
   "outputs": [],
   "metadata": {}
  },
  {
   "cell_type": "code",
   "execution_count": 5,
   "source": [
    "class ToTensor(object):\r\n",
    "    def __call__(self, img):\r\n",
    "        img = np.transpose(img, (2,0,1)).astype('float32')\r\n",
    "        img = torch\r\n",
    "\r\n",
    "        return img\r\n",
    "\r\n",
    "class Resize(object):\r\n",
    "    def __init__(self, size):\r\n",
    "        assert isinstance(size, (int, tuple))\r\n",
    "        self.size = size\r\n",
    "\r\n",
    "    def __call__(self, img):\r\n",
    "\r\n",
    "        h, w = img.shape[:2]\r\n",
    "        if isinstance(self.size, int):\r\n",
    "            if h > w:\r\n",
    "                new_h, new_w = int(self.size * h / w), self.size\r\n",
    "            else:\r\n",
    "                new_h, new_w = self.size, int(self.size * w / h)\r\n",
    "        else:\r\n",
    "            new_h, new_w = self.size\r\n",
    "\r\n",
    "        img = cv2.resize(img, (new_w,new_h))\r\n",
    "\r\n",
    "        return img\r\n",
    "\r\n"
   ],
   "outputs": [],
   "metadata": {}
  },
  {
   "cell_type": "code",
   "execution_count": 6,
   "source": [
    "transform = transforms.Compose([Resize((200, 512)), ToTensor()])"
   ],
   "outputs": [],
   "metadata": {}
  },
  {
   "cell_type": "code",
   "execution_count": 7,
   "source": [
    "dataset = CustomDataset(path='classify', transforms=transform)\r\n",
    "data_loader = DataLoader(dataset=dataset, batch_size=1, shuffle=True)"
   ],
   "outputs": [],
   "metadata": {}
  },
  {
   "cell_type": "code",
   "execution_count": null,
   "source": [
    "for image, labels"
   ],
   "outputs": [],
   "metadata": {}
  },
  {
   "cell_type": "code",
   "execution_count": 13,
   "source": [
    "class Model(nn.Module):\r\n",
    "    def __init__(self, num_classes):\r\n",
    "        super(Model, self).__init__()\r\n",
    "\r\n",
    "        self.layer1 = nn.Sequential(\r\n",
    "            nn.Conv2d(3, 16, 5, padding=2),\r\n",
    "            nn.BatchNorm2d(16),\r\n",
    "            nn.ReLU(),\r\n",
    "            nn.MaxPool2d(2, stride=2)\r\n",
    "        )\r\n",
    "\r\n",
    "        self.layer2 = nn.Sequential(\r\n",
    "            nn.Conv2d(16, 32, 5, padding=2),\r\n",
    "            nn.BatchNorm2d(32),\r\n",
    "            nn.ReLU(),\r\n",
    "            nn.MaxPool2d(2, stride=2)\r\n",
    "        )\r\n",
    "\r\n",
    "        self.layer3 = nn.Sequential(\r\n",
    "            nn.Conv2d(32, 64, 5, padding=2),\r\n",
    "            nn.BatchNorm2d(64),\r\n",
    "            nn.ReLU(),\r\n",
    "            nn.MaxPool2d(2, stride=2)\r\n",
    "        )\r\n",
    "\r\n",
    "        self.flatten = nn.Flatten()\r\n",
    "        self.fc = nn.Sequential(\r\n",
    "            nn.Linear(102400, 32),\r\n",
    "            nn.ReLU(),\r\n",
    "            nn.Linear(32, num_classes),\r\n",
    "\r\n",
    "        )\r\n",
    "\r\n",
    "    def forward(self, x):\r\n",
    "        out = self.layer1(x)\r\n",
    "        out = self.layer2(out)\r\n",
    "        out = self.layer3(out)\r\n",
    "        out = self.flatten(out)\r\n",
    "        out = self.fc(out)\r\n",
    "  \r\n",
    "        return out\r\n",
    "    \r\n",
    "\r\n",
    "\r\n",
    "    "
   ],
   "outputs": [],
   "metadata": {}
  },
  {
   "cell_type": "code",
   "execution_count": 14,
   "source": [
    "model = Model(2).to(device)\r\n",
    "total_params = sum(p.numel() for p in model.parameters())\r\n",
    "\r\n",
    "print(model)\r\n",
    "print('Total params = ', total_params)"
   ],
   "outputs": [
    {
     "output_type": "stream",
     "name": "stdout",
     "text": [
      "Model(\n",
      "  (layer1): Sequential(\n",
      "    (0): Conv2d(3, 16, kernel_size=(5, 5), stride=(1, 1), padding=(2, 2))\n",
      "    (1): BatchNorm2d(16, eps=1e-05, momentum=0.1, affine=True, track_running_stats=True)\n",
      "    (2): ReLU()\n",
      "    (3): MaxPool2d(kernel_size=2, stride=2, padding=0, dilation=1, ceil_mode=False)\n",
      "  )\n",
      "  (layer2): Sequential(\n",
      "    (0): Conv2d(16, 32, kernel_size=(5, 5), stride=(1, 1), padding=(2, 2))\n",
      "    (1): BatchNorm2d(32, eps=1e-05, momentum=0.1, affine=True, track_running_stats=True)\n",
      "    (2): ReLU()\n",
      "    (3): MaxPool2d(kernel_size=2, stride=2, padding=0, dilation=1, ceil_mode=False)\n",
      "  )\n",
      "  (layer3): Sequential(\n",
      "    (0): Conv2d(32, 64, kernel_size=(5, 5), stride=(1, 1), padding=(2, 2))\n",
      "    (1): BatchNorm2d(64, eps=1e-05, momentum=0.1, affine=True, track_running_stats=True)\n",
      "    (2): ReLU()\n",
      "    (3): MaxPool2d(kernel_size=2, stride=2, padding=0, dilation=1, ceil_mode=False)\n",
      "  )\n",
      "  (flatten): Flatten(start_dim=1, end_dim=-1)\n",
      "  (fc): Sequential(\n",
      "    (0): Linear(in_features=102400, out_features=32, bias=True)\n",
      "    (1): ReLU()\n",
      "    (2): Linear(in_features=32, out_features=2, bias=True)\n",
      "  )\n",
      ")\n",
      "Total params =  3342434\n"
     ]
    }
   ],
   "metadata": {}
  },
  {
   "cell_type": "code",
   "execution_count": 10,
   "source": [
    "loss_func = nn.CrossEntropyLoss()\r\n",
    "optim = torch.optim.Adam(model.parameters(), lr = 0.00001)"
   ],
   "outputs": [],
   "metadata": {}
  },
  {
   "cell_type": "code",
   "execution_count": 11,
   "source": [
    "import gc\r\n",
    "gc.collect()\r\n",
    "torch.cuda.empty_cache()"
   ],
   "outputs": [],
   "metadata": {}
  },
  {
   "cell_type": "code",
   "execution_count": 17,
   "source": [
    "total_step = len(data_loader)\r\n",
    "\r\n",
    "for epoch in range(10):\r\n",
    "    for images, labels in data_loader:\r\n",
    "        images = images.to(device)\r\n",
    "        labels = labels.to(device)\r\n",
    "\r\n",
    "        #Forward pass\r\n",
    "        output = model(images)\r\n",
    "        loss = loss_func(output, labels)\r\n",
    "\r\n",
    "        #Backward\r\n",
    "        optim.zero_grad()\r\n",
    "        loss.backward()\r\n",
    "        optim.step()\r\n",
    "    print('Epoch [{}/5], loss = {}'.format(epoch+1, loss))"
   ],
   "outputs": [
    {
     "output_type": "stream",
     "name": "stdout",
     "text": [
      "Epoch [1/5], loss = 0.7929459810256958\n"
     ]
    }
   ],
   "metadata": {}
  },
  {
   "cell_type": "code",
   "execution_count": null,
   "source": [],
   "outputs": [],
   "metadata": {}
  }
 ],
 "metadata": {
  "orig_nbformat": 4,
  "language_info": {
   "name": "python"
  }
 },
 "nbformat": 4,
 "nbformat_minor": 2
}