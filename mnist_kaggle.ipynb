{
 "cells": [
  {
   "cell_type": "code",
   "execution_count": 1,
   "source": [
    "import pandas as pd \r\n",
    "import numpy as np \r\n",
    "import torch\r\n",
    "import torchvision\r\n",
    "import torch.nn as nn\r\n",
    "import torchvision.transforms as transforms\r\n",
    "import random\r\n",
    "import matplotlib.pyplot as plt\r\n",
    "\r\n",
    "%matplotlib inline\r\n"
   ],
   "outputs": [],
   "metadata": {}
  },
  {
   "cell_type": "code",
   "execution_count": 2,
   "source": [
    "device = torch.device('cuda' if torch.cuda.is_available() else 'cpu')\r\n",
    "device"
   ],
   "outputs": [
    {
     "output_type": "execute_result",
     "data": {
      "text/plain": [
       "device(type='cuda')"
      ]
     },
     "metadata": {},
     "execution_count": 2
    }
   ],
   "metadata": {}
  },
  {
   "cell_type": "markdown",
   "source": [
    "# Data"
   ],
   "metadata": {}
  },
  {
   "cell_type": "code",
   "execution_count": 3,
   "source": [
    "df_train = pd.read_csv('mnist kaggle\\mnist_train.csv')\r\n",
    "df_test = pd.read_csv('mnist kaggle\\mnist_test.csv')\r\n",
    "\r\n",
    "df_train.head()\r\n"
   ],
   "outputs": [
    {
     "output_type": "execute_result",
     "data": {
      "text/plain": [
       "   5  0  0.1  0.2  0.3  0.4  0.5  0.6  0.7  0.8  ...  0.608  0.609  0.610  \\\n",
       "0  0  0    0    0    0    0    0    0    0    0  ...      0      0      0   \n",
       "1  4  0    0    0    0    0    0    0    0    0  ...      0      0      0   \n",
       "2  1  0    0    0    0    0    0    0    0    0  ...      0      0      0   \n",
       "3  9  0    0    0    0    0    0    0    0    0  ...      0      0      0   \n",
       "4  2  0    0    0    0    0    0    0    0    0  ...      0      0      0   \n",
       "\n",
       "   0.611  0.612  0.613  0.614  0.615  0.616  0.617  \n",
       "0      0      0      0      0      0      0      0  \n",
       "1      0      0      0      0      0      0      0  \n",
       "2      0      0      0      0      0      0      0  \n",
       "3      0      0      0      0      0      0      0  \n",
       "4      0      0      0      0      0      0      0  \n",
       "\n",
       "[5 rows x 785 columns]"
      ],
      "text/html": [
       "<div>\n",
       "<style scoped>\n",
       "    .dataframe tbody tr th:only-of-type {\n",
       "        vertical-align: middle;\n",
       "    }\n",
       "\n",
       "    .dataframe tbody tr th {\n",
       "        vertical-align: top;\n",
       "    }\n",
       "\n",
       "    .dataframe thead th {\n",
       "        text-align: right;\n",
       "    }\n",
       "</style>\n",
       "<table border=\"1\" class=\"dataframe\">\n",
       "  <thead>\n",
       "    <tr style=\"text-align: right;\">\n",
       "      <th></th>\n",
       "      <th>5</th>\n",
       "      <th>0</th>\n",
       "      <th>0.1</th>\n",
       "      <th>0.2</th>\n",
       "      <th>0.3</th>\n",
       "      <th>0.4</th>\n",
       "      <th>0.5</th>\n",
       "      <th>0.6</th>\n",
       "      <th>0.7</th>\n",
       "      <th>0.8</th>\n",
       "      <th>...</th>\n",
       "      <th>0.608</th>\n",
       "      <th>0.609</th>\n",
       "      <th>0.610</th>\n",
       "      <th>0.611</th>\n",
       "      <th>0.612</th>\n",
       "      <th>0.613</th>\n",
       "      <th>0.614</th>\n",
       "      <th>0.615</th>\n",
       "      <th>0.616</th>\n",
       "      <th>0.617</th>\n",
       "    </tr>\n",
       "  </thead>\n",
       "  <tbody>\n",
       "    <tr>\n",
       "      <th>0</th>\n",
       "      <td>0</td>\n",
       "      <td>0</td>\n",
       "      <td>0</td>\n",
       "      <td>0</td>\n",
       "      <td>0</td>\n",
       "      <td>0</td>\n",
       "      <td>0</td>\n",
       "      <td>0</td>\n",
       "      <td>0</td>\n",
       "      <td>0</td>\n",
       "      <td>...</td>\n",
       "      <td>0</td>\n",
       "      <td>0</td>\n",
       "      <td>0</td>\n",
       "      <td>0</td>\n",
       "      <td>0</td>\n",
       "      <td>0</td>\n",
       "      <td>0</td>\n",
       "      <td>0</td>\n",
       "      <td>0</td>\n",
       "      <td>0</td>\n",
       "    </tr>\n",
       "    <tr>\n",
       "      <th>1</th>\n",
       "      <td>4</td>\n",
       "      <td>0</td>\n",
       "      <td>0</td>\n",
       "      <td>0</td>\n",
       "      <td>0</td>\n",
       "      <td>0</td>\n",
       "      <td>0</td>\n",
       "      <td>0</td>\n",
       "      <td>0</td>\n",
       "      <td>0</td>\n",
       "      <td>...</td>\n",
       "      <td>0</td>\n",
       "      <td>0</td>\n",
       "      <td>0</td>\n",
       "      <td>0</td>\n",
       "      <td>0</td>\n",
       "      <td>0</td>\n",
       "      <td>0</td>\n",
       "      <td>0</td>\n",
       "      <td>0</td>\n",
       "      <td>0</td>\n",
       "    </tr>\n",
       "    <tr>\n",
       "      <th>2</th>\n",
       "      <td>1</td>\n",
       "      <td>0</td>\n",
       "      <td>0</td>\n",
       "      <td>0</td>\n",
       "      <td>0</td>\n",
       "      <td>0</td>\n",
       "      <td>0</td>\n",
       "      <td>0</td>\n",
       "      <td>0</td>\n",
       "      <td>0</td>\n",
       "      <td>...</td>\n",
       "      <td>0</td>\n",
       "      <td>0</td>\n",
       "      <td>0</td>\n",
       "      <td>0</td>\n",
       "      <td>0</td>\n",
       "      <td>0</td>\n",
       "      <td>0</td>\n",
       "      <td>0</td>\n",
       "      <td>0</td>\n",
       "      <td>0</td>\n",
       "    </tr>\n",
       "    <tr>\n",
       "      <th>3</th>\n",
       "      <td>9</td>\n",
       "      <td>0</td>\n",
       "      <td>0</td>\n",
       "      <td>0</td>\n",
       "      <td>0</td>\n",
       "      <td>0</td>\n",
       "      <td>0</td>\n",
       "      <td>0</td>\n",
       "      <td>0</td>\n",
       "      <td>0</td>\n",
       "      <td>...</td>\n",
       "      <td>0</td>\n",
       "      <td>0</td>\n",
       "      <td>0</td>\n",
       "      <td>0</td>\n",
       "      <td>0</td>\n",
       "      <td>0</td>\n",
       "      <td>0</td>\n",
       "      <td>0</td>\n",
       "      <td>0</td>\n",
       "      <td>0</td>\n",
       "    </tr>\n",
       "    <tr>\n",
       "      <th>4</th>\n",
       "      <td>2</td>\n",
       "      <td>0</td>\n",
       "      <td>0</td>\n",
       "      <td>0</td>\n",
       "      <td>0</td>\n",
       "      <td>0</td>\n",
       "      <td>0</td>\n",
       "      <td>0</td>\n",
       "      <td>0</td>\n",
       "      <td>0</td>\n",
       "      <td>...</td>\n",
       "      <td>0</td>\n",
       "      <td>0</td>\n",
       "      <td>0</td>\n",
       "      <td>0</td>\n",
       "      <td>0</td>\n",
       "      <td>0</td>\n",
       "      <td>0</td>\n",
       "      <td>0</td>\n",
       "      <td>0</td>\n",
       "      <td>0</td>\n",
       "    </tr>\n",
       "  </tbody>\n",
       "</table>\n",
       "<p>5 rows × 785 columns</p>\n",
       "</div>"
      ]
     },
     "metadata": {},
     "execution_count": 3
    }
   ],
   "metadata": {}
  },
  {
   "cell_type": "code",
   "execution_count": 4,
   "source": [
    "train_labels = df_train.iloc[:, 0]\r\n",
    "train_images = df_train.iloc[:, 1:]\r\n",
    "\r\n",
    "test_labels = df_test.iloc[:, 0]\r\n",
    "test_images = df_test.iloc[:, 1:]"
   ],
   "outputs": [],
   "metadata": {}
  },
  {
   "cell_type": "code",
   "execution_count": 5,
   "source": [
    "class CustomDataset(torch.utils.data.Dataset):\r\n",
    "    def __init__(self, images, labels=None, transforms=None):\r\n",
    "        self.X = images\r\n",
    "        self.y = labels\r\n",
    "        self.transforms = transforms\r\n",
    "\r\n",
    "    def __getitem__(self, i):\r\n",
    "        data = self.X.iloc[i, :]\r\n",
    "        data = np.array(data).astype('float32').reshape(1, 28, 28)\r\n",
    "\r\n",
    "        if self.transforms:\r\n",
    "            data = self.transforms(data)\r\n",
    "        \r\n",
    "        if self.y is not None:\r\n",
    "            return (data, self.y[i])\r\n",
    "        \r\n",
    "        else:\r\n",
    "            return data\r\n",
    "\r\n",
    "    def __len__(self):\r\n",
    "        return (len(self.X))"
   ],
   "outputs": [],
   "metadata": {}
  },
  {
   "cell_type": "code",
   "execution_count": 6,
   "source": [
    "class toTensor(object):\r\n",
    "    def __call__(self, image):\r\n",
    "        img = torch.from_numpy(image)\r\n",
    "        return img\r\n"
   ],
   "outputs": [],
   "metadata": {}
  },
  {
   "cell_type": "code",
   "execution_count": 7,
   "source": [
    "transform = transforms.Compose([toTensor()])"
   ],
   "outputs": [],
   "metadata": {}
  },
  {
   "cell_type": "code",
   "execution_count": 8,
   "source": [
    "train_dataset = CustomDataset(train_images, train_labels, transforms=None)\r\n",
    "val_dataset = CustomDataset(test_images, test_labels, transforms=transform)"
   ],
   "outputs": [],
   "metadata": {}
  },
  {
   "cell_type": "code",
   "execution_count": 9,
   "source": [
    "train_loader = torch.utils.data.DataLoader(dataset=train_dataset, batch_size=128, shuffle=True)\r\n",
    "val_loader = torch.utils.data.DataLoader(dataset=val_dataset, batch_size=128)"
   ],
   "outputs": [],
   "metadata": {}
  },
  {
   "cell_type": "code",
   "execution_count": 10,
   "source": [
    "data_iter = iter(train_loader)\r\n",
    "# Mini-batch images and labels\r\n",
    "images, labels = next(data_iter)\r\n",
    "\r\n",
    "images.type()"
   ],
   "outputs": [
    {
     "output_type": "execute_result",
     "data": {
      "text/plain": [
       "'torch.FloatTensor'"
      ]
     },
     "metadata": {},
     "execution_count": 10
    }
   ],
   "metadata": {}
  },
  {
   "cell_type": "markdown",
   "source": [
    "# Build model"
   ],
   "metadata": {}
  },
  {
   "cell_type": "code",
   "execution_count": 11,
   "source": [
    "class ConvNet(nn.Module):\r\n",
    "    def __init__(self, num_classes):\r\n",
    "        super(ConvNet, self).__init__()\r\n",
    "        self.layer1 = nn.Sequential(\r\n",
    "            nn.Conv2d(1, 16, 5, padding=2),\r\n",
    "            nn.BatchNorm2d(16),\r\n",
    "            nn.ReLU(),\r\n",
    "            nn.MaxPool2d(2, stride=2)\r\n",
    "        )\r\n",
    "\r\n",
    "        self.layer2 = nn.Sequential(\r\n",
    "            nn.Conv2d(16, 32, 5, padding=2),\r\n",
    "            nn.BatchNorm2d(32),\r\n",
    "            nn.ReLU(),\r\n",
    "            nn.MaxPool2d(2, stride=2)\r\n",
    "        )\r\n",
    "\r\n",
    "        self.flatten = nn.Flatten()\r\n",
    "\r\n",
    "        self.fc = nn.Linear(7*7*32, num_classes)\r\n",
    "    \r\n",
    "    def forward(self, x):\r\n",
    "        out = self.layer1(x)\r\n",
    "        out = self.layer2(out)\r\n",
    "        out = self.flatten(out)\r\n",
    "        out = self.fc(out)\r\n",
    "\r\n",
    "        return out"
   ],
   "outputs": [],
   "metadata": {}
  },
  {
   "cell_type": "code",
   "execution_count": 12,
   "source": [
    "model = ConvNet(10).to(device)\r\n",
    "total_paras = sum(p.numel() for p in model.parameters())\r\n",
    "trainable_paras = sum(p.numel() for p in model.parameters() if p.requires_grad)\r\n",
    "\r\n",
    "\r\n",
    "print(model)\r\n",
    "print('Trainable params = ',trainable_paras)\r\n",
    "print('Total params = ', total_paras)"
   ],
   "outputs": [
    {
     "output_type": "stream",
     "name": "stdout",
     "text": [
      "ConvNet(\n",
      "  (layer1): Sequential(\n",
      "    (0): Conv2d(1, 16, kernel_size=(5, 5), stride=(1, 1), padding=(2, 2))\n",
      "    (1): BatchNorm2d(16, eps=1e-05, momentum=0.1, affine=True, track_running_stats=True)\n",
      "    (2): ReLU()\n",
      "    (3): MaxPool2d(kernel_size=2, stride=2, padding=0, dilation=1, ceil_mode=False)\n",
      "  )\n",
      "  (layer2): Sequential(\n",
      "    (0): Conv2d(16, 32, kernel_size=(5, 5), stride=(1, 1), padding=(2, 2))\n",
      "    (1): BatchNorm2d(32, eps=1e-05, momentum=0.1, affine=True, track_running_stats=True)\n",
      "    (2): ReLU()\n",
      "    (3): MaxPool2d(kernel_size=2, stride=2, padding=0, dilation=1, ceil_mode=False)\n",
      "  )\n",
      "  (flatten): Flatten(start_dim=1, end_dim=-1)\n",
      "  (fc): Linear(in_features=1568, out_features=10, bias=True)\n",
      ")\n",
      "Trainable params =  29034\n",
      "Total params =  29034\n"
     ]
    }
   ],
   "metadata": {}
  },
  {
   "cell_type": "markdown",
   "source": [
    "# Loss and Optimizer"
   ],
   "metadata": {}
  },
  {
   "cell_type": "code",
   "execution_count": 13,
   "source": [
    "loss_func = nn.CrossEntropyLoss()\r\n",
    "opt = torch.optim.Adam(model.parameters(), lr=0.001)"
   ],
   "outputs": [],
   "metadata": {}
  },
  {
   "cell_type": "markdown",
   "source": [
    "# Training"
   ],
   "metadata": {}
  },
  {
   "cell_type": "code",
   "execution_count": 14,
   "source": [
    "\r\n",
    "train_loss_values = []\r\n",
    "val_acc_values = []\r\n",
    "val_loss_values = []\r\n",
    "best_acc = 0\r\n",
    "\r\n",
    "for epoch in range(10):\r\n",
    "    train_loss = 0\r\n",
    "    val_loss = 0\r\n",
    "    correct = 0\r\n",
    "\r\n",
    "    #Training\r\n",
    "    for (images, labels) in train_loader:\r\n",
    "        images = images.to(device)\r\n",
    "        labels = labels.to(device)\r\n",
    "\r\n",
    "        #Forward pass\r\n",
    "        model.train()\r\n",
    "        outputs = model(images)\r\n",
    "        loss = loss_func(outputs, labels)\r\n",
    "\r\n",
    "        #Backward\r\n",
    "        opt.zero_grad()\r\n",
    "        loss.backward()\r\n",
    "        opt.step()\r\n",
    "\r\n",
    "        train_loss += loss.item()\r\n",
    "\r\n",
    "    train_loss = train_loss / len(train_loader)\r\n",
    "    train_loss_values.append(train_loss)\r\n",
    "\r\n",
    "    #Validating\r\n",
    "    for images, labels in val_loader:\r\n",
    "        images = images.to(device)\r\n",
    "        labels = labels.to(device)\r\n",
    "\r\n",
    "        model.eval()\r\n",
    "        outputs = model(images)\r\n",
    "        _, pred = torch.max(outputs, 1)\r\n",
    "        loss = loss_func(outputs, labels)\r\n",
    "        \r\n",
    "        val_loss += loss.item()\r\n",
    "        correct += torch.sum(pred == labels.data).cpu()\r\n",
    "\r\n",
    "    val_loss = val_loss / len(val_loader)\r\n",
    "    val_loss_values.append(val_loss)\r\n",
    "\r\n",
    "    val_acc = correct / len(val_dataset)\r\n",
    "    val_acc_values.append(val_acc)\r\n",
    "\r\n",
    "    print('Epoch [{}]: train_loss = {:.4f}, val_loss = {:.4f}, val_acc = {:.4f}.'.format(epoch+1, train_loss, val_loss, val_acc))\r\n",
    "\r\n",
    "    if val_acc > best_acc:\r\n",
    "        best_acc = val_acc\r\n",
    "        torch.save(model.state_dict(), 'mnist kaggle\\\\best.ckpt')\r\n",
    "        print('Save best!')\r\n",
    "    print('-'*20)\r\n",
    "\r\n",
    "print('Best weights is stored in: \"mnist kaggle\\\\best.ckpt\" with acc= {}'.format(best_acc))\r\n"
   ],
   "outputs": [
    {
     "output_type": "stream",
     "name": "stderr",
     "text": [
      "C:\\Users\\dangv\\anaconda3\\envs\\torch\\lib\\site-packages\\torch\\nn\\functional.py:718: UserWarning: Named tensors and all their associated APIs are an experimental feature and subject to change. Please do not use them for anything important until they are released as stable. (Triggered internally at  ..\\c10/core/TensorImpl.h:1156.)\n",
      "  return torch.max_pool2d(input, kernel_size, stride, padding, dilation, ceil_mode)\n"
     ]
    },
    {
     "output_type": "stream",
     "name": "stdout",
     "text": [
      "Epoch [1]: train_loss = 0.1679, val_loss = 0.0519, val_acc = 0.9832.\n",
      "Save best!\n",
      "--------------------\n",
      "Epoch [2]: train_loss = 0.0515, val_loss = 0.0521, val_acc = 0.9837.\n",
      "Save best!\n",
      "--------------------\n",
      "Epoch [3]: train_loss = 0.0374, val_loss = 0.0405, val_acc = 0.9871.\n",
      "Save best!\n",
      "--------------------\n",
      "Epoch [4]: train_loss = 0.0295, val_loss = 0.0399, val_acc = 0.9863.\n",
      "--------------------\n",
      "Epoch [5]: train_loss = 0.0253, val_loss = 0.0431, val_acc = 0.9883.\n",
      "Save best!\n",
      "--------------------\n",
      "Epoch [6]: train_loss = 0.0213, val_loss = 0.0445, val_acc = 0.9868.\n",
      "--------------------\n",
      "Epoch [7]: train_loss = 0.0184, val_loss = 0.0282, val_acc = 0.9905.\n",
      "Save best!\n",
      "--------------------\n",
      "Epoch [8]: train_loss = 0.0145, val_loss = 0.0322, val_acc = 0.9899.\n",
      "--------------------\n",
      "Epoch [9]: train_loss = 0.0118, val_loss = 0.0346, val_acc = 0.9911.\n",
      "Save best!\n",
      "--------------------\n",
      "Epoch [10]: train_loss = 0.0136, val_loss = 0.0316, val_acc = 0.9901.\n",
      "--------------------\n",
      "Best weights is stored in: \"mnist kaggle\\best.ckpt\" with acc= 0.9910991191864014\n"
     ]
    }
   ],
   "metadata": {}
  },
  {
   "cell_type": "code",
   "execution_count": 15,
   "source": [
    "# fig = plt.figure()\r\n",
    "plt.plot(train_loss_values, label='train_loss')\r\n",
    "plt.plot(val_loss_values, label='val_loss')\r\n",
    "plt.xlabel('epochs')\r\n",
    "plt.ylabel('loss')\r\n",
    "plt.legend()"
   ],
   "outputs": [
    {
     "output_type": "execute_result",
     "data": {
      "text/plain": [
       "<matplotlib.legend.Legend at 0x1d3d0f55dc0>"
      ]
     },
     "metadata": {},
     "execution_count": 15
    },
    {
     "output_type": "display_data",
     "data": {
      "text/plain": [
       "<Figure size 432x288 with 1 Axes>"
      ],
      "image/png": "[encoded data removed]"
     },
     "metadata": {
      "needs_background": "light"
     }
    }
   ],
   "metadata": {}
  },
  {
   "cell_type": "markdown",
   "source": [
    "# Test"
   ],
   "metadata": {}
  },
  {
   "cell_type": "code",
   "execution_count": 16,
   "source": [
    "# model.load_state_dict(torch.load('mnist kaggle\\\\best.ckpt'))\r\n",
    "# model.eval()\r\n",
    "# with torch.no_grad():\r\n",
    "#     correct = 0\r\n",
    "#     total = 0\r\n",
    "#     for images, labels in val_loader:\r\n",
    "#         images = images.to(device)\r\n",
    "#         labels = labels.to(device)\r\n",
    "#         outputs = model(images)\r\n",
    "#         _, predicted = torch.max(outputs.data, 1)\r\n",
    "#         total += labels.size(0)\r\n",
    "#         correct += torch.sum(predicted == labels)\r\n",
    "\r\n",
    "#     print('Test Accuracy of the model on the 10000 test images: {} %'.format(100 * correct / total))"
   ],
   "outputs": [],
   "metadata": {}
  },
  {
   "cell_type": "code",
   "execution_count": 17,
   "source": [
    "torch.max(outputs.data, 1)"
   ],
   "outputs": [
    {
     "output_type": "execute_result",
     "data": {
      "text/plain": [
       "torch.return_types.max(\n",
       "values=tensor([12.7673, 14.1737, 14.7711, 19.5018, 14.9774, 17.2811, 10.0301, 10.4374,\n",
       "         4.4591, 10.5845, 17.2667, 15.4574, 14.8740, 14.4923, 11.8900],\n",
       "       device='cuda:0'),\n",
       "indices=tensor([2, 3, 4, 5, 6, 7, 8, 9, 0, 1, 2, 3, 4, 5, 6], device='cuda:0'))"
      ]
     },
     "metadata": {},
     "execution_count": 17
    }
   ],
   "metadata": {}
  },
  {
   "cell_type": "markdown",
   "source": [
    "# Predict"
   ],
   "metadata": {}
  },
  {
   "cell_type": "code",
   "execution_count": 18,
   "source": [
    "test_iter = iter(val_loader)\r\n",
    "# Mini-batch images and labels\r\n",
    "images, labels = next(test_iter)\r\n",
    "images = images.to(device)\r\n",
    "labels = labels.to(device)\r\n",
    "\r\n",
    "out = model(images)\r\n",
    "_, pred = torch.max(out.data, 1)\r\n",
    "\r\n",
    "#In ra cacs ket qua sai\r\n",
    "for i in range(128):\r\n",
    "    if labels[i] != pred[i]:\r\n",
    "        print('labels: ', labels[i])\r\n",
    "        print('pred: ', pred[i])\r\n",
    "        img = images[i].cpu()\r\n",
    "        img = np.transpose(img, (1,2,0))\r\n",
    "        plt.imshow(img)\r\n",
    "        plt.show()"
   ],
   "outputs": [
    {
     "output_type": "stream",
     "name": "stdout",
     "text": [
      "labels:  tensor(3, device='cuda:0')\n",
      "pred:  tensor(5, device='cuda:0')\n"
     ]
    },
    {
     "output_type": "display_data",
     "data": {
      "text/plain": [
       "<Figure size 432x288 with 1 Axes>"
      ],
      "image/png": "[encoded data removed]"
     },
     "metadata": {
      "needs_background": "light"
     }
    },
    {
     "output_type": "stream",
     "name": "stdout",
     "text": [
      "labels:  tensor(9, device='cuda:0')\n",
      "pred:  tensor(5, device='cuda:0')\n"
     ]
    },
    {
     "output_type": "display_data",
     "data": {
      "text/plain": [
       "<Figure size 432x288 with 1 Axes>"
      ],
      "image/png": "[encoded data removed]"
     },
     "metadata": {
      "needs_background": "light"
     }
    }
   ],
   "metadata": {}
  },
  {
   "cell_type": "code",
   "execution_count": 19,
   "source": [
    "torch.sum(labels == pred)"
   ],
   "outputs": [
    {
     "output_type": "execute_result",
     "data": {
      "text/plain": [
       "tensor(126, device='cuda:0')"
      ]
     },
     "metadata": {},
     "execution_count": 19
    }
   ],
   "metadata": {}
  },
  {
   "cell_type": "code",
   "execution_count": 20,
   "source": [
    "for _ in range(5):\r\n",
    "    i = random.randint(0, 127)\r\n",
    "    print(labels[i])\r\n",
    "    print(pred[i])\r\n",
    "    plt.imshow(np.transpose(images[i].cpu(), (1,2,0)))\r\n",
    "    plt.show()"
   ],
   "outputs": [
    {
     "output_type": "stream",
     "name": "stdout",
     "text": [
      "tensor(1, device='cuda:0')\n",
      "tensor(1, device='cuda:0')\n"
     ]
    },
    {
     "output_type": "display_data",
     "data": {
      "text/plain": [
       "<Figure size 432x288 with 1 Axes>"
      ],
      "image/png": "[encoded data removed]"
     },
     "metadata": {
      "needs_background": "light"
     }
    },
    {
     "output_type": "stream",
     "name": "stdout",
     "text": [
      "tensor(2, device='cuda:0')\n",
      "tensor(2, device='cuda:0')\n"
     ]
    },
    {
     "output_type": "display_data",
     "data": {
      "text/plain": [
       "<Figure size 432x288 with 1 Axes>"
      ],
      "image/png": "[encoded data removed]"
     },
     "metadata": {
      "needs_background": "light"
     }
    },
    {
     "output_type": "stream",
     "name": "stdout",
     "text": [
      "tensor(7, device='cuda:0')\n",
      "tensor(7, device='cuda:0')\n"
     ]
    },
    {
     "output_type": "display_data",
     "data": {
      "text/plain": [
       "<Figure size 432x288 with 1 Axes>"
      ],
      "image/png": "[encoded data removed]"
     },
     "metadata": {
      "needs_background": "light"
     }
    },
    {
     "output_type": "stream",
     "name": "stdout",
     "text": [
      "tensor(3, device='cuda:0')\n",
      "tensor(3, device='cuda:0')\n"
     ]
    },
    {
     "output_type": "display_data",
     "data": {
      "text/plain": [
       "<Figure size 432x288 with 1 Axes>"
      ],
      "image/png": "[encoded data removed]"
     },
     "metadata": {
      "needs_background": "light"
     }
    },
    {
     "output_type": "stream",
     "name": "stdout",
     "text": [
      "tensor(9, device='cuda:0')\n",
      "tensor(9, device='cuda:0')\n"
     ]
    },
    {
     "output_type": "display_data",
     "data": {
      "text/plain": [
       "<Figure size 432x288 with 1 Axes>"
      ],
      "image/png": "[encoded data removed]"
     },
     "metadata": {
      "needs_background": "light"
     }
    }
   ],
   "metadata": {}
  }
 ],
 "metadata": {
  "kernelspec": {
   "display_name": "torch",
   "language": "python",
   "name": "torch"
  },
  "language_info": {
   "codemirror_mode": {
    "name": "ipython",
    "version": 3
   },
   "file_extension": ".py",
   "mimetype": "text/x-python",
   "name": "python",
   "nbconvert_exporter": "python",
   "pygments_lexer": "ipython3",
   "version": "3.8.10"
  }
 },
 "nbformat": 4,
 "nbformat_minor": 4
}