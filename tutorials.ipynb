{
 "cells": [
  {
   "cell_type": "markdown",
   "source": [
    "# Libraries"
   ],
   "metadata": {}
  },
  {
   "cell_type": "code",
   "execution_count": 2,
   "source": [
    "import torch\r\n",
    "import torchvision\r\n",
    "import torch.nn as nn\r\n",
    "import torchvision.transforms as transforms\r\n",
    "import numpy as np \r\n",
    "import matplotlib.pyplot as plt\r\n",
    "import random"
   ],
   "outputs": [],
   "metadata": {}
  },
  {
   "cell_type": "markdown",
   "source": [
    "# Autograd "
   ],
   "metadata": {}
  },
  {
   "cell_type": "code",
   "execution_count": 4,
   "source": [
    "x = torch.rand(10, 3)\r\n",
    "x"
   ],
   "outputs": [
    {
     "output_type": "execute_result",
     "data": {
      "text/plain": [
       "tensor([[0.2964, 0.8620, 0.6770],\n",
       "        [0.3951, 0.7407, 0.5657],\n",
       "        [0.7447, 0.1209, 0.9605],\n",
       "        [0.6744, 0.5397, 0.7447],\n",
       "        [0.9279, 0.8498, 0.1893],\n",
       "        [0.8846, 0.9220, 0.9078],\n",
       "        [0.5299, 0.1957, 0.1977],\n",
       "        [0.2002, 0.8699, 0.2947],\n",
       "        [0.1395, 0.4538, 0.4965],\n",
       "        [0.7696, 0.4815, 0.8114]])"
      ]
     },
     "metadata": {},
     "execution_count": 4
    }
   ],
   "metadata": {}
  },
  {
   "cell_type": "code",
   "execution_count": 5,
   "source": [
    "y = torch.rand(10, 2)\r\n",
    "y"
   ],
   "outputs": [
    {
     "output_type": "execute_result",
     "data": {
      "text/plain": [
       "tensor([[0.2606, 0.5114],\n",
       "        [0.7013, 0.8323],\n",
       "        [0.8353, 0.0243],\n",
       "        [0.0475, 0.7386],\n",
       "        [0.1597, 0.6014],\n",
       "        [0.9265, 0.9881],\n",
       "        [0.8976, 0.7063],\n",
       "        [0.3917, 0.1966],\n",
       "        [0.1826, 0.3504],\n",
       "        [0.7207, 0.2694]])"
      ]
     },
     "metadata": {},
     "execution_count": 5
    }
   ],
   "metadata": {}
  },
  {
   "cell_type": "code",
   "execution_count": 8,
   "source": [
    "linear = nn.Linear(3, 2)\r\n",
    "print('w: ', linear.weight)\r\n",
    "print('b: ', linear.bias)"
   ],
   "outputs": [
    {
     "output_type": "stream",
     "name": "stdout",
     "text": [
      "w:  Parameter containing:\n",
      "tensor([[-0.3837, -0.3458,  0.2591],\n",
      "        [ 0.2627, -0.1784,  0.1059]], requires_grad=True)\n",
      "b:  Parameter containing:\n",
      "tensor([ 0.4152, -0.4141], requires_grad=True)\n"
     ]
    }
   ],
   "metadata": {}
  },
  {
   "cell_type": "code",
   "execution_count": 14,
   "source": [
    "linear.parameters()"
   ],
   "outputs": [
    {
     "output_type": "execute_result",
     "data": {
      "text/plain": [
       "<generator object Module.parameters at 0x000002207A516F90>"
      ]
     },
     "metadata": {},
     "execution_count": 14
    }
   ],
   "metadata": {}
  },
  {
   "cell_type": "code",
   "execution_count": 10,
   "source": [
    "criterion = nn.MSELoss()\r\n",
    "optimizer = torch.optim.SGD(linear.parameters(), lr=0.001)"
   ],
   "outputs": [],
   "metadata": {}
  },
  {
   "cell_type": "code",
   "execution_count": 13,
   "source": [
    "pred = linear(x)\r\n",
    "\r\n",
    "loss = criterion(pred, y)\r\n",
    "print('loss after 1 step optimization: ', loss.item())"
   ],
   "outputs": [
    {
     "output_type": "stream",
     "name": "stdout",
     "text": [
      "loss after 1 step optimization:  0.5211935043334961\n"
     ]
    }
   ],
   "metadata": {}
  },
  {
   "cell_type": "markdown",
   "source": [
    "# Loading data from numpy"
   ],
   "metadata": {}
  },
  {
   "cell_type": "code",
   "execution_count": 3,
   "source": [
    "x = np.array([[1, 2, 3], [5, 7, 9]])\r\n",
    "x"
   ],
   "outputs": [
    {
     "output_type": "execute_result",
     "data": {
      "text/plain": [
       "array([[1, 2, 3],\n",
       "       [5, 7, 9]])"
      ]
     },
     "metadata": {},
     "execution_count": 3
    }
   ],
   "metadata": {}
  },
  {
   "cell_type": "code",
   "execution_count": 4,
   "source": [
    "y = torch.from_numpy(x)\r\n",
    "y"
   ],
   "outputs": [
    {
     "output_type": "execute_result",
     "data": {
      "text/plain": [
       "tensor([[1, 2, 3],\n",
       "        [5, 7, 9]], dtype=torch.int32)"
      ]
     },
     "metadata": {},
     "execution_count": 4
    }
   ],
   "metadata": {}
  },
  {
   "cell_type": "code",
   "execution_count": 6,
   "source": [
    "z = y.numpy\r\n",
    "z"
   ],
   "outputs": [
    {
     "output_type": "execute_result",
     "data": {
      "text/plain": [
       "<function Tensor.numpy>"
      ]
     },
     "metadata": {},
     "execution_count": 6
    }
   ],
   "metadata": {}
  },
  {
   "cell_type": "markdown",
   "source": [
    "# Input pipeline with data in torch"
   ],
   "metadata": {}
  },
  {
   "cell_type": "code",
   "execution_count": 2,
   "source": [
    "# Download and construct mnist dataset.\r\n",
    "train_dataset = torchvision.datasets.MNIST(root='data/', train=True, transform=transforms.ToTensor(), download=True)\r\n"
   ],
   "outputs": [
    {
     "output_type": "stream",
     "name": "stderr",
     "text": [
      "C:\\Users\\dangv\\anaconda3\\envs\\torch\\lib\\site-packages\\torchvision\\datasets\\mnist.py:498: UserWarning: The given NumPy array is not writeable, and PyTorch does not support non-writeable tensors. This means you can write to the underlying (supposedly non-writeable) NumPy array using the tensor. You may want to copy the array to protect its data or make it writeable before converting it to a tensor. This type of warning will be suppressed for the rest of this program. (Triggered internally at  ..\\torch\\csrc\\utils\\tensor_numpy.cpp:180.)\n",
      "  return torch.from_numpy(parsed.astype(m[2], copy=False)).view(*s)\n"
     ]
    }
   ],
   "metadata": {}
  },
  {
   "cell_type": "code",
   "execution_count": 4,
   "source": [
    "#Fetch one data pair\r\n",
    "images, label = train_dataset[0]\r\n",
    "print(images.shape)\r\n",
    "print(label)\r\n",
    "plt.imshow(np.transpose(images, (1,2,0)))\r\n",
    "plt.show()\r\n"
   ],
   "outputs": [
    {
     "output_type": "stream",
     "name": "stdout",
     "text": [
      "torch.Size([1, 28, 28])\n",
      "5\n"
     ]
    },
    {
     "output_type": "display_data",
     "data": {
      "text/plain": [
       "<Figure size 432x288 with 1 Axes>"
      ],
      "image/png": "[encoded data removed]"
     },
     "metadata": {
      "needs_background": "light"
     }
    }
   ],
   "metadata": {}
  },
  {
   "cell_type": "code",
   "execution_count": 6,
   "source": [
    "train_loader = torch.utils.data.DataLoader(dataset=train_dataset, batch_size=64, shuffle=True)"
   ],
   "outputs": [],
   "metadata": {}
  },
  {
   "cell_type": "code",
   "execution_count": 14,
   "source": [
    "data_iter = iter(train_loader)\r\n",
    "# Mini-batch images and labels\r\n",
    "images, labels = next(data_iter)\r\n",
    "\r\n",
    "i = random.randint(0, 64)\r\n",
    "print(labels[i])\r\n",
    "plt.imshow(np.transpose(images[i], (1, 2, 0)))"
   ],
   "outputs": [
    {
     "output_type": "stream",
     "name": "stdout",
     "text": [
      "tensor(0)\n"
     ]
    },
    {
     "output_type": "execute_result",
     "data": {
      "text/plain": [
       "<matplotlib.image.AxesImage at 0x22809d68d30>"
      ]
     },
     "metadata": {},
     "execution_count": 14
    },
    {
     "output_type": "display_data",
     "data": {
      "text/plain": [
       "<Figure size 432x288 with 1 Axes>"
      ],
      "image/png": "[encoded data removed]"
     },
     "metadata": {
      "needs_background": "light"
     }
    }
   ],
   "metadata": {}
  },
  {
   "cell_type": "code",
   "execution_count": 15,
   "source": [
    "# Actual usage of the data loader is as below.\r\n",
    "for images, labels in train_loader:\r\n",
    "    #Training code should be written here\r\n",
    "    pass"
   ],
   "outputs": [],
   "metadata": {}
  },
  {
   "cell_type": "markdown",
   "source": [
    "# Input pipeline for custom dataset"
   ],
   "metadata": {}
  },
  {
   "cell_type": "code",
   "execution_count": 20,
   "source": [
    "# Build a custom dataset below.\r\n",
    "\r\n",
    "class CustomDataset(torch.utils.data.Dataset):\r\n",
    "    def __init__(self):\r\n",
    "        #TODO\r\n",
    "        #1. Initialize file path or list of file name\r\n",
    "        pass\r\n",
    "\r\n",
    "    def __getitem__(self, index):\r\n",
    "        #TODO\r\n",
    "        #1. Read one data from file (eg: using numpy.fromfile, PIL.Image.open)\r\n",
    "        #2. Preprocess the data (eg: torchvision.transforms)\r\n",
    "        #3. Return a data pair (eg: image and label)\r\n",
    "        pass\r\n",
    "\r\n",
    "    def __len__(self):\r\n",
    "        # You should change 0 to the total size of your dataset\r\n",
    "        return 0\r\n"
   ],
   "outputs": [],
   "metadata": {}
  },
  {
   "cell_type": "code",
   "execution_count": null,
   "source": [
    "# Using the data loader\r\n",
    "custom_data = CustomDataset()\r\n",
    "custom_loader = torch.utils.data.DataLoader(dataset=custom_data, batch_size=64, shuffle=True)"
   ],
   "outputs": [],
   "metadata": {}
  },
  {
   "cell_type": "markdown",
   "source": [
    "# Loss function "
   ],
   "metadata": {}
  },
  {
   "cell_type": "markdown",
   "source": [
    "## L1 loss(x, y) = abs(x - y)\r\n",
    "### torch.nn.L1Loss"
   ],
   "metadata": {}
  },
  {
   "cell_type": "code",
   "execution_count": 28,
   "source": [
    "\r\n",
    "x = torch.tensor([[12, 82],[67, 7]], dtype=torch.float, requires_grad=True)\r\n",
    "y = torch.tensor([[65, 69],[48, 1]], dtype=torch.float)\r\n",
    "\r\n",
    "loss = nn.L1Loss()\r\n",
    "output = loss(x, y)\r\n",
    "output.backward()\r\n",
    "\r\n",
    "print(x)\r\n",
    "print(y)\r\n",
    "print(output)\r\n"
   ],
   "outputs": [
    {
     "output_type": "stream",
     "name": "stdout",
     "text": [
      "tensor([[12., 82.],\n",
      "        [67.,  7.]], requires_grad=True)\n",
      "tensor([[65., 69.],\n",
      "        [48.,  1.]])\n",
      "tensor(22.7500, grad_fn=<L1LossBackward>)\n"
     ]
    }
   ],
   "metadata": {}
  },
  {
   "cell_type": "markdown",
   "source": [
    "## MSE Loss  loss = (x - y)**2\r\n",
    "nn.MSELoss"
   ],
   "metadata": {}
  },
  {
   "cell_type": "code",
   "execution_count": 27,
   "source": [
    "x = torch.tensor([[12, 82],[67, 7]], dtype=torch.float, requires_grad=True)\r\n",
    "y = torch.tensor([[65, 69],[48, 1]], dtype=torch.float)\r\n",
    "\r\n",
    "loss = nn.MSELoss(reduction='sum')\r\n",
    "output = loss(x, y)\r\n",
    "output.backward()\r\n",
    "\r\n",
    "print(x)\r\n",
    "print(y)\r\n",
    "print(output)"
   ],
   "outputs": [
    {
     "output_type": "stream",
     "name": "stdout",
     "text": [
      "tensor([[12., 82.],\n",
      "        [67.,  7.]], requires_grad=True)\n",
      "tensor([[65., 69.],\n",
      "        [48.,  1.]])\n",
      "tensor(3375., grad_fn=<MseLossBackward>)\n"
     ]
    }
   ],
   "metadata": {}
  },
  {
   "cell_type": "markdown",
   "source": [
    "## Crossentropy loss = - sum(x*log(y))\r\n",
    "nn.CrossEntropyLoss"
   ],
   "metadata": {}
  },
  {
   "cell_type": "code",
   "execution_count": 41,
   "source": [
    "x = torch.tensor([[12, 82], [67, 7]], dtype=torch.float, requires_grad=True)\r\n",
    "y = torch.tensor([0, 1], dtype=torch.long)\r\n",
    "\r\n",
    "loss = nn.CrossEntropyLoss()\r\n",
    "output = loss(x, y)\r\n",
    "output.backward()\r\n",
    "\r\n",
    "print(x)\r\n",
    "print(y)\r\n",
    "print(output)"
   ],
   "outputs": [
    {
     "output_type": "stream",
     "name": "stdout",
     "text": [
      "tensor([[12., 82.],\n",
      "        [67.,  7.]], requires_grad=True)\n",
      "tensor([0, 1])\n",
      "tensor(65., grad_fn=<NllLossBackward>)\n"
     ]
    }
   ],
   "metadata": {}
  },
  {
   "cell_type": "markdown",
   "source": [
    "## Binary crossentropy"
   ],
   "metadata": {}
  },
  {
   "cell_type": "code",
   "execution_count": 58,
   "source": [
    "\r\n",
    "loss = nn.BCELoss()\r\n",
    "x = torch.tensor([0.5, 0.6], dtype=torch.float, requires_grad=True)\r\n",
    "y = torch.tensor([0, 1], dtype=torch.float)\r\n",
    "\r\n",
    "sigmoid = nn.Sigmoid()\r\n",
    "output = loss(sigmoid(x), y)\r\n",
    "output.backward()\r\n",
    "\r\n",
    "print(sigmoid(x))\r\n",
    "print(y)\r\n",
    "print(output)"
   ],
   "outputs": [
    {
     "output_type": "stream",
     "name": "stdout",
     "text": [
      "tensor([0.6225, 0.6457], grad_fn=<SigmoidBackward>)\n",
      "tensor([0., 1.])\n",
      "tensor(0.7058, grad_fn=<BinaryCrossEntropyBackward>)\n"
     ]
    }
   ],
   "metadata": {}
  },
  {
   "cell_type": "markdown",
   "source": [
    "## BCEWithLogitsLoss "
   ],
   "metadata": {}
  },
  {
   "cell_type": "code",
   "execution_count": 55,
   "source": [
    "loss = nn.BCEWithLogitsLoss()\r\n",
    "x = torch.tensor([0.5, 0.6], dtype=torch.float, requires_grad=True)\r\n",
    "y = torch.tensor([0, 1], dtype=torch.float)\r\n",
    "output = loss(x, y)\r\n",
    "output.backward()\r\n",
    "\r\n",
    "print(x)\r\n",
    "print(y)\r\n",
    "\r\n",
    "print(output)"
   ],
   "outputs": [
    {
     "output_type": "stream",
     "name": "stdout",
     "text": [
      "tensor([0.5000, 0.6000], requires_grad=True)\n",
      "tensor([0., 1.])\n",
      "tensor(0.7058, grad_fn=<BinaryCrossEntropyWithLogitsBackward>)\n"
     ]
    }
   ],
   "metadata": {}
  }
 ],
 "metadata": {
  "orig_nbformat": 4,
  "language_info": {
   "name": "python"
  }
 },
 "nbformat": 4,
 "nbformat_minor": 2
}